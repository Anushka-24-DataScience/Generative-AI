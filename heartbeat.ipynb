{
  "cells": [
    {
      "cell_type": "code",
      "execution_count": 2,
      "metadata": {
        "id": "l1P0TVjMkyrW"
      },
      "outputs": [],
      "source": [
        "!mkdir -p ~/.kaggle # Download dataset from kaggle by using kaggle API\n",
        "!cp kaggle.json ~/.kaggle/\n"
      ]
    },
    {
      "cell_type": "code",
      "execution_count": 3,
      "metadata": {
        "colab": {
          "base_uri": "https://localhost:8080/"
        },
        "id": "7I-XE7XIlRTL",
        "outputId": "9f95e45e-97f4-49a6-8b7b-383e214461c4"
      },
      "outputs": [
        {
          "output_type": "stream",
          "name": "stdout",
          "text": [
            "Warning: Your Kaggle API key is readable by other users on this system! To fix this, you can run 'chmod 600 /root/.kaggle/kaggle.json'\n",
            "Dataset URL: https://www.kaggle.com/datasets/yasserhessein/heartbeat\n",
            "License(s): unknown\n",
            "Downloading heartbeat.zip to /content\n",
            " 98% 97.0M/98.8M [00:04<00:00, 29.5MB/s]\n",
            "100% 98.8M/98.8M [00:04<00:00, 23.0MB/s]\n"
          ]
        }
      ],
      "source": [
        "!kaggle datasets download -d yasserhessein/heartbeat # kaggle API"
      ]
    },
    {
      "cell_type": "markdown",
      "metadata": {
        "id": "gGBC3D3-psTt"
      },
      "source": [
        "**Unzip Data**"
      ]
    },
    {
      "cell_type": "code",
      "execution_count": 4,
      "metadata": {
        "id": "a0RwW0wwlRUO"
      },
      "outputs": [],
      "source": [
        "import zipfile\n",
        "\n",
        "with zipfile.ZipFile('/content/heartbeat.zip', 'r') as zip_ref:\n",
        "  zip_ref.extractall('/content')"
      ]
    },
    {
      "cell_type": "code",
      "execution_count": 5,
      "metadata": {
        "id": "c77WNX5IlRX5"
      },
      "outputs": [],
      "source": [
        "import numpy as np\n",
        "import pandas as pd\n",
        "import tensorflow as tf\n",
        "import zipfile\n",
        "\n",
        "with zipfile.ZipFile('/content/heartbeat.zip', 'r') as zip_ref:\n",
        "  zip_ref.extractall('/content')"
      ]
    },
    {
      "cell_type": "markdown",
      "metadata": {
        "id": "glNyDmmEp1ry"
      },
      "source": [
        "**Import Required Libraries**"
      ]
    },
    {
      "cell_type": "code",
      "execution_count": 6,
      "metadata": {
        "id": "UkWB8xqavFXU"
      },
      "outputs": [],
      "source": [
        "import numpy as np\n",
        "import pandas as pd\n",
        "import matplotlib.pyplot as plt\n",
        "from sklearn.model_selection import train_test_split\n",
        "from sklearn.preprocessing import StandardScaler\n",
        "from keras.utils import to_categorical\n",
        "from keras.models import Sequential\n",
        "from keras.layers import Conv1D, Conv2D, MaxPooling1D, MaxPooling2D, Flatten, Dense, Dropout, BatchNormalization\n",
        "from keras.callbacks import EarlyStopping\n",
        "from sklearn.metrics import classification_report, confusion_matrix\n",
        "import cv2  # For processing images in the 2D CNN implementation\n",
        "import os\n"
      ]
    },
    {
      "cell_type": "markdown",
      "metadata": {
        "id": "oLAxhJsgp9q9"
      },
      "source": [
        "**Split dataset into train and test**"
      ]
    },
    {
      "cell_type": "code",
      "execution_count": 7,
      "metadata": {
        "id": "SycRPjQVvIna"
      },
      "outputs": [],
      "source": [
        "train_data = pd.read_csv('mitbih_train.csv', header=None)\n",
        "test_data = pd.read_csv('mitbih_test.csv', header=None)\n",
        "\n",
        "X_train = train_data.iloc[:, :-1].values\n",
        "y_train = train_data.iloc[:, -1].values\n",
        "\n",
        "X_test = test_data.iloc[:, :-1].values\n",
        "y_test = test_data.iloc[:, -1].values\n"
      ]
    },
    {
      "cell_type": "markdown",
      "metadata": {
        "id": "A6G9bfKmqJc3"
      },
      "source": [
        "**Data Preprocessing**\n",
        "**Standardization: Standardize the features.**\n",
        "**Reshape Data: Reshape the data to fit the CNN model.**\n",
        "**One-Hot Encoding: Encode the labels.**"
      ]
    },
    {
      "cell_type": "code",
      "execution_count": 8,
      "metadata": {
        "id": "-zLu0TBzvQn_"
      },
      "outputs": [],
      "source": [
        "scaler = StandardScaler()\n",
        "X_train = scaler.fit_transform(X_train)\n",
        "X_test = scaler.transform(X_test)\n",
        "\n",
        "X_train = X_train.reshape(X_train.shape[0], X_train.shape[1], 1)\n",
        "X_test = X_test.reshape(X_test.shape[0], X_test.shape[1], 1)\n",
        "\n",
        "y_train = to_categorical(y_train, num_classes=5)\n",
        "y_test = to_categorical(y_test, num_classes=5)\n"
      ]
    },
    {
      "cell_type": "markdown",
      "metadata": {
        "id": "M9MKRGdmvPvQ"
      },
      "source": []
    },
    {
      "cell_type": "markdown",
      "metadata": {
        "id": "ohSn1olDqwJv"
      },
      "source": [
        "**Implement the CNN model as per the the medium documentation**.\n",
        "**1D CNN Implementation----> Data Preprocessing**"
      ]
    },
    {
      "cell_type": "code",
      "execution_count": 9,
      "metadata": {
        "colab": {
          "base_uri": "https://localhost:8080/"
        },
        "id": "3K_BQ0ptvaB1",
        "outputId": "5b3717eb-2ad1-4738-f5b7-9354d2c4b03a"
      },
      "outputs": [
        {
          "output_type": "stream",
          "name": "stderr",
          "text": [
            "/usr/local/lib/python3.10/dist-packages/keras/src/layers/convolutional/base_conv.py:107: UserWarning: Do not pass an `input_shape`/`input_dim` argument to a layer. When using Sequential models, prefer using an `Input(shape)` object as the first layer in the model instead.\n",
            "  super().__init__(activity_regularizer=activity_regularizer, **kwargs)\n"
          ]
        }
      ],
      "source": [
        "model_1d = Sequential()\n",
        "\n",
        "model_1d.add(Conv1D(filters=32, kernel_size=5, activation='relu', input_shape=(X_train.shape[1], 1)))\n",
        "model_1d.add(BatchNormalization())\n",
        "model_1d.add(MaxPooling1D(pool_size=2))\n",
        "model_1d.add(Dropout(0.2))\n",
        "\n",
        "model_1d.add(Conv1D(filters=64, kernel_size=5, activation='relu'))\n",
        "model_1d.add(BatchNormalization())\n",
        "model_1d.add(MaxPooling1D(pool_size=2))\n",
        "model_1d.add(Dropout(0.2))\n",
        "\n",
        "model_1d.add(Conv1D(filters=128, kernel_size=5, activation='relu'))\n",
        "model_1d.add(BatchNormalization())\n",
        "model_1d.add(MaxPooling1D(pool_size=2))\n",
        "model_1d.add(Dropout(0.2))\n",
        "\n",
        "model_1d.add(Flatten())\n",
        "\n",
        "model_1d.add(Dense(128, activation='relu'))\n",
        "model_1d.add(Dropout(0.3))\n",
        "model_1d.add(Dense(5, activation='softmax'))\n",
        "\n",
        "model_1d.compile(optimizer='adam', loss='categorical_crossentropy', metrics=['accuracy'])\n"
      ]
    },
    {
      "cell_type": "markdown",
      "metadata": {
        "id": "GKQiZrGmrN9g"
      },
      "source": [
        "**Model Training**-->\n",
        "**Train the model on the preprocessed data.**"
      ]
    },
    {
      "cell_type": "code",
      "execution_count": 10,
      "metadata": {
        "colab": {
          "base_uri": "https://localhost:8080/"
        },
        "id": "x83ohY7mvgz1",
        "outputId": "e9594219-d63b-43a5-c03d-4eaef045b0d7"
      },
      "outputs": [
        {
          "output_type": "stream",
          "name": "stdout",
          "text": [
            "Epoch 1/20\n",
            "\u001b[1m2189/2189\u001b[0m \u001b[32m━━━━━━━━━━━━━━━━━━━━\u001b[0m\u001b[37m\u001b[0m \u001b[1m34s\u001b[0m 8ms/step - accuracy: 0.9944 - loss: 0.0232 - val_accuracy: 0.1387 - val_loss: 9.4899\n",
            "Epoch 2/20\n",
            "\u001b[1m2189/2189\u001b[0m \u001b[32m━━━━━━━━━━━━━━━━━━━━\u001b[0m\u001b[37m\u001b[0m \u001b[1m9s\u001b[0m 4ms/step - accuracy: 1.0000 - loss: 4.6379e-07 - val_accuracy: 0.1387 - val_loss: 9.8155\n",
            "Epoch 3/20\n",
            "\u001b[1m2189/2189\u001b[0m \u001b[32m━━━━━━━━━━━━━━━━━━━━\u001b[0m\u001b[37m\u001b[0m \u001b[1m10s\u001b[0m 4ms/step - accuracy: 1.0000 - loss: 5.8653e-07 - val_accuracy: 0.1388 - val_loss: 10.4858\n",
            "Epoch 4/20\n",
            "\u001b[1m2189/2189\u001b[0m \u001b[32m━━━━━━━━━━━━━━━━━━━━\u001b[0m\u001b[37m\u001b[0m \u001b[1m10s\u001b[0m 4ms/step - accuracy: 1.0000 - loss: 6.1742e-08 - val_accuracy: 0.1388 - val_loss: 11.0860\n",
            "Epoch 5/20\n",
            "\u001b[1m2189/2189\u001b[0m \u001b[32m━━━━━━━━━━━━━━━━━━━━\u001b[0m\u001b[37m\u001b[0m \u001b[1m9s\u001b[0m 4ms/step - accuracy: 1.0000 - loss: 2.1060e-08 - val_accuracy: 0.1388 - val_loss: 11.9954\n",
            "Epoch 6/20\n",
            "\u001b[1m2189/2189\u001b[0m \u001b[32m━━━━━━━━━━━━━━━━━━━━\u001b[0m\u001b[37m\u001b[0m \u001b[1m9s\u001b[0m 3ms/step - accuracy: 1.0000 - loss: 7.9766e-09 - val_accuracy: 0.1387 - val_loss: 13.9902\n"
          ]
        }
      ],
      "source": [
        "early_stopping = EarlyStopping(monitor='val_loss', patience=5, restore_best_weights=True)\n",
        "\n",
        "history_1d = model_1d.fit(X_train, y_train, epochs=20, batch_size=32, validation_split=0.2, callbacks=[early_stopping])\n"
      ]
    },
    {
      "cell_type": "markdown",
      "metadata": {
        "id": "9BzrVOsvvfjH"
      },
      "source": []
    },
    {
      "cell_type": "markdown",
      "metadata": {
        "id": "tXtW5RVPrqRi"
      },
      "source": [
        "**Evaluation-->**\n",
        "**Evaluate the model using the test dataset and visualize the results.**"
      ]
    },
    {
      "cell_type": "code",
      "execution_count": 11,
      "metadata": {
        "colab": {
          "base_uri": "https://localhost:8080/"
        },
        "id": "TUweIWWGvllI",
        "outputId": "358bd147-d34f-4fd4-8f42-a304de852420"
      },
      "outputs": [
        {
          "output_type": "stream",
          "name": "stdout",
          "text": [
            "\u001b[1m685/685\u001b[0m \u001b[32m━━━━━━━━━━━━━━━━━━━━\u001b[0m\u001b[37m\u001b[0m \u001b[1m2s\u001b[0m 3ms/step - accuracy: 0.9837 - loss: 0.1940\n",
            "Test Accuracy: 82.76%\n"
          ]
        }
      ],
      "source": [
        "loss, accuracy = model_1d.evaluate(X_test, y_test)\n",
        "print(f'Test Accuracy: {accuracy*100:.2f}%')\n",
        "\n",
        "\n"
      ]
    },
    {
      "cell_type": "markdown",
      "metadata": {
        "id": "NO0WkafMr7es"
      },
      "source": [
        "**Confusion Matrix and Classification Report**"
      ]
    },
    {
      "cell_type": "code",
      "execution_count": 12,
      "metadata": {
        "colab": {
          "base_uri": "https://localhost:8080/"
        },
        "id": "mmXEGN4Bvxck",
        "outputId": "f3b833c9-08b1-412f-91d6-84cc5ec0190e"
      },
      "outputs": [
        {
          "output_type": "stream",
          "name": "stdout",
          "text": [
            "\u001b[1m685/685\u001b[0m \u001b[32m━━━━━━━━━━━━━━━━━━━━\u001b[0m\u001b[37m\u001b[0m \u001b[1m2s\u001b[0m 2ms/step\n",
            "[[18118     0     0     0     0]\n",
            " [  556     0     0     0     0]\n",
            " [ 1448     0     0     0     0]\n",
            " [  162     0     0     0     0]\n",
            " [ 1608     0     0     0     0]]\n",
            "              precision    recall  f1-score   support\n",
            "\n",
            "           0       0.83      1.00      0.91     18118\n",
            "           1       0.00      0.00      0.00       556\n",
            "           2       0.00      0.00      0.00      1448\n",
            "           3       0.00      0.00      0.00       162\n",
            "           4       0.00      0.00      0.00      1608\n",
            "\n",
            "    accuracy                           0.83     21892\n",
            "   macro avg       0.17      0.20      0.18     21892\n",
            "weighted avg       0.68      0.83      0.75     21892\n",
            "\n"
          ]
        },
        {
          "output_type": "stream",
          "name": "stderr",
          "text": [
            "/usr/local/lib/python3.10/dist-packages/sklearn/metrics/_classification.py:1471: UndefinedMetricWarning: Precision and F-score are ill-defined and being set to 0.0 in labels with no predicted samples. Use `zero_division` parameter to control this behavior.\n",
            "  _warn_prf(average, modifier, msg_start, len(result))\n",
            "/usr/local/lib/python3.10/dist-packages/sklearn/metrics/_classification.py:1471: UndefinedMetricWarning: Precision and F-score are ill-defined and being set to 0.0 in labels with no predicted samples. Use `zero_division` parameter to control this behavior.\n",
            "  _warn_prf(average, modifier, msg_start, len(result))\n",
            "/usr/local/lib/python3.10/dist-packages/sklearn/metrics/_classification.py:1471: UndefinedMetricWarning: Precision and F-score are ill-defined and being set to 0.0 in labels with no predicted samples. Use `zero_division` parameter to control this behavior.\n",
            "  _warn_prf(average, modifier, msg_start, len(result))\n"
          ]
        }
      ],
      "source": [
        "y_pred_1d = model_1d.predict(X_test)\n",
        "y_pred_classes_1d = np.argmax(y_pred_1d, axis=1)\n",
        "y_true_1d = np.argmax(y_test, axis=1)\n",
        "\n",
        "print(confusion_matrix(y_true_1d, y_pred_classes_1d))\n",
        "print(classification_report(y_true_1d, y_pred_classes_1d))"
      ]
    },
    {
      "cell_type": "markdown",
      "source": [
        "**Visualization**"
      ],
      "metadata": {
        "id": "F_hbUnB5FP7p"
      }
    },
    {
      "cell_type": "code",
      "execution_count": 13,
      "metadata": {
        "colab": {
          "base_uri": "https://localhost:8080/",
          "height": 881
        },
        "id": "sTK1VxGxyIXy",
        "outputId": "e9759042-e344-406c-a452-5aefdd63c902"
      },
      "outputs": [
        {
          "output_type": "display_data",
          "data": {
            "text/plain": [
              "<Figure size 640x480 with 1 Axes>"
            ],
            "image/png": "[encoded data removed]"
          },
          "metadata": {}
        },
        {
          "output_type": "display_data",
          "data": {
            "text/plain": [
              "<Figure size 640x480 with 1 Axes>"
            ],
            "image/png": "[encoded data removed]"
          },
          "metadata": {}
        }
      ],
      "source": [
        "plt.plot(history_1d.history['accuracy'], label='Train Accuracy')\n",
        "plt.plot(history_1d.history['val_accuracy'], label='Validation Accuracy')\n",
        "plt.xlabel('Epoch')\n",
        "plt.ylabel('Accuracy')\n",
        "plt.legend()\n",
        "plt.show()\n",
        "\n",
        "plt.plot(history_1d.history['loss'], label='Train Loss')\n",
        "plt.plot(history_1d.history['val_loss'], label='Validation Loss')\n",
        "plt.xlabel('Epoch')\n",
        "plt.ylabel('Loss')\n",
        "plt.legend()\n",
        "plt.show()"
      ]
    },
    {
      "cell_type": "markdown",
      "source": [
        "**2D CNN Implementation--->Data Preprocessing**"
      ],
      "metadata": {
        "id": "ViuzLD77FmmG"
      }
    },
    {
      "cell_type": "code",
      "source": [
        "import os\n",
        "import numpy as np\n",
        "import cv2\n",
        "from multiprocessing import Pool, cpu_count\n",
        "\n",
        "def save_ecg_image(args):\n",
        "    ecg_signal, label, img_path = args\n",
        "    img = np.zeros((200, 200), dtype=np.uint8)  # Create a blank image (adjust size as needed)\n",
        "    ecg_signal = np.interp(ecg_signal, (np.min(ecg_signal), np.max(ecg_signal)), (0, 255))\n",
        "    cv2.polylines(img, [np.int32(np.column_stack((np.linspace(0, img.shape[1]-1, len(ecg_signal)), ecg_signal)))], isClosed=False, color=255)\n",
        "    cv2.imwrite(img_path, img)\n",
        "\n",
        "def create_ecg_images(X, y, folder_prefix):\n",
        "    # Ensure the main directory exists\n",
        "    os.makedirs(folder_prefix, exist_ok=True)\n",
        "\n",
        "    # Create directories for each class label\n",
        "    for i in range(5):\n",
        "        os.makedirs(os.path.join(folder_prefix, str(i)), exist_ok=True)\n",
        "\n",
        "    # Prepare arguments for multiprocessing\n",
        "    args_list = []\n",
        "    for index in range(X.shape[0]):\n",
        "        ecg_signal = X[index]\n",
        "        label = np.argmax(y[index])\n",
        "        img_path = os.path.join(folder_prefix, str(label), f'img_{index}.png')\n",
        "        args_list.append((ecg_signal, label, img_path))\n",
        "\n",
        "    # Use multiprocessing to save images in parallel\n",
        "    with Pool(cpu_count()) as pool:\n",
        "        pool.map(save_ecg_image, args_list)\n",
        "\n",
        "# Generate images using the optimized function\n",
        "create_ecg_images(X_train, y_train, 'train_images')\n",
        "create_ecg_images(X_test, y_test, 'test_images')\n"
      ],
      "metadata": {
        "colab": {
          "base_uri": "https://localhost:8080/"
        },
        "id": "lTs399aqCzav",
        "outputId": "203d5cff-8720-483f-a261-f1687201d82e"
      },
      "execution_count": 14,
      "outputs": [
        {
          "output_type": "stream",
          "name": "stderr",
          "text": [
            "/usr/lib/python3.10/multiprocessing/popen_fork.py:66: RuntimeWarning: os.fork() was called. os.fork() is incompatible with multithreaded code, and JAX is multithreaded, so this will likely lead to a deadlock.\n",
            "  self.pid = os.fork()\n"
          ]
        }
      ]
    },
    {
      "cell_type": "markdown",
      "source": [
        "**Load and Resize Images for 2D CNN**"
      ],
      "metadata": {
        "id": "CXMwMIVwF63n"
      }
    },
    {
      "cell_type": "code",
      "execution_count": 15,
      "metadata": {
        "id": "TaGTOLAnxPnW"
      },
      "outputs": [],
      "source": [
        "def load_images_from_folder(folder, img_size=(64, 64)):\n",
        "    images = []\n",
        "    labels = []\n",
        "    for category in range(5):\n",
        "        path = os.path.join(folder, str(category))\n",
        "        for img_name in os.listdir(path):\n",
        "            img_path = os.path.join(path, img_name)\n",
        "            img = cv2.imread(img_path, cv2.IMREAD_GRAYSCALE)\n",
        "            img = cv2.resize(img, img_size)\n",
        "            images.append(img)\n",
        "            labels.append(category)\n",
        "\n",
        "    images = np.array(images)\n",
        "    labels = np.array(labels)\n",
        "\n",
        "    return images, labels\n",
        "\n",
        "X_train_2d, y_train_2d = load_images_from_folder('train_images')\n",
        "X_test_2d, y_test_2d = load_images_from_folder('test_images')\n",
        "\n",
        "X_train_2d = X_train_2d.reshape(X_train_2d.shape[0], 64, 64, 1)\n",
        "X_test_2d = X_test_2d.reshape(X_test_2d.shape[0], 64, 64, 1)\n",
        "\n",
        "y_train_2d = to_categorical(y_train_2d, num_classes=5)\n",
        "y_test_2d = to_categorical(y_test_2d, num_classes=5)\n"
      ]
    },
    {
      "cell_type": "markdown",
      "source": [
        "**Model Architecture**"
      ],
      "metadata": {
        "id": "CVsYMoXWGCzu"
      }
    },
    {
      "cell_type": "code",
      "execution_count": 16,
      "metadata": {
        "id": "mG0_HTl9xa31",
        "colab": {
          "base_uri": "https://localhost:8080/"
        },
        "outputId": "257a96d3-cb62-497e-cf2a-e66438845c01"
      },
      "outputs": [
        {
          "output_type": "stream",
          "name": "stderr",
          "text": [
            "/usr/local/lib/python3.10/dist-packages/keras/src/layers/convolutional/base_conv.py:107: UserWarning: Do not pass an `input_shape`/`input_dim` argument to a layer. When using Sequential models, prefer using an `Input(shape)` object as the first layer in the model instead.\n",
            "  super().__init__(activity_regularizer=activity_regularizer, **kwargs)\n"
          ]
        }
      ],
      "source": [
        "model_2d = Sequential()\n",
        "\n",
        "model_2d.add(Conv2D(filters=32, kernel_size=(3,3), activation='relu', input_shape=(64, 64, 1)))\n",
        "model_2d.add(BatchNormalization())\n",
        "model_2d.add(MaxPooling2D(pool_size=(2, 2)))\n",
        "model_2d.add(Dropout(0.2))\n",
        "\n",
        "model_2d.add(Conv2D(filters=64, kernel_size=(3,3), activation='relu'))\n",
        "model_2d.add(BatchNormalization())\n",
        "model_2d.add(MaxPooling2D(pool_size=(2, 2)))\n",
        "model_2d.add(Dropout(0.2))\n",
        "\n",
        "model_2d.add(Conv2D(filters=128, kernel_size=(3,3), activation='relu'))\n",
        "model_2d.add(BatchNormalization())\n",
        "model_2d.add(MaxPooling2D(pool_size=(2, 2)))\n",
        "model_2d.add(Dropout(0.2))\n",
        "\n",
        "model_2d.add(Flatten())\n",
        "\n",
        "model_2d.add(Dense(128, activation='relu'))\n",
        "model_2d.add(Dropout(0.3))\n",
        "model_2d.add(Dense(5, activation='softmax'))\n",
        "\n",
        "model_2d.compile(optimizer='adam', loss='categorical_crossentropy', metrics=['accuracy'])\n"
      ]
    },
    {
      "cell_type": "markdown",
      "source": [
        "**Model Training**"
      ],
      "metadata": {
        "id": "OusI7U98GUX7"
      }
    },
    {
      "cell_type": "code",
      "execution_count": 17,
      "metadata": {
        "id": "YWy4XdLGlI4-",
        "colab": {
          "base_uri": "https://localhost:8080/"
        },
        "outputId": "cfd3185b-37ea-45df-de41-f987b48297b1"
      },
      "outputs": [
        {
          "output_type": "stream",
          "name": "stdout",
          "text": [
            "Epoch 1/20\n",
            "\u001b[1m2189/2189\u001b[0m \u001b[32m━━━━━━━━━━━━━━━━━━━━\u001b[0m\u001b[37m\u001b[0m \u001b[1m34s\u001b[0m 10ms/step - accuracy: 0.9978 - loss: 0.0082 - val_accuracy: 0.1387 - val_loss: 58.8821\n",
            "Epoch 2/20\n",
            "\u001b[1m2189/2189\u001b[0m \u001b[32m━━━━━━━━━━━━━━━━━━━━\u001b[0m\u001b[37m\u001b[0m \u001b[1m14s\u001b[0m 6ms/step - accuracy: 1.0000 - loss: 3.8196e-12 - val_accuracy: 0.1387 - val_loss: 58.8361\n",
            "Epoch 3/20\n",
            "\u001b[1m2189/2189\u001b[0m \u001b[32m━━━━━━━━━━━━━━━━━━━━\u001b[0m\u001b[37m\u001b[0m \u001b[1m21s\u001b[0m 7ms/step - accuracy: 1.0000 - loss: 7.4799e-11 - val_accuracy: 0.1387 - val_loss: 58.9017\n",
            "Epoch 4/20\n",
            "\u001b[1m2189/2189\u001b[0m \u001b[32m━━━━━━━━━━━━━━━━━━━━\u001b[0m\u001b[37m\u001b[0m \u001b[1m23s\u001b[0m 8ms/step - accuracy: 1.0000 - loss: 0.0000e+00 - val_accuracy: 0.1387 - val_loss: 58.9942\n",
            "Epoch 5/20\n",
            "\u001b[1m2189/2189\u001b[0m \u001b[32m━━━━━━━━━━━━━━━━━━━━\u001b[0m\u001b[37m\u001b[0m \u001b[1m15s\u001b[0m 7ms/step - accuracy: 1.0000 - loss: 3.5328e-11 - val_accuracy: 0.1387 - val_loss: 58.8548\n"
          ]
        }
      ],
      "source": [
        "history_2d = model_2d.fit(X_train_2d, y_train_2d, epochs=20, batch_size=32, validation_split=0.2, callbacks=[early_stopping])\n"
      ]
    },
    {
      "cell_type": "markdown",
      "source": [
        "**Evaluation**"
      ],
      "metadata": {
        "id": "7VnxDjS6GXoI"
      }
    },
    {
      "cell_type": "code",
      "execution_count": 18,
      "metadata": {
        "id": "glz0RfjilI9W",
        "colab": {
          "base_uri": "https://localhost:8080/"
        },
        "outputId": "e0991dbf-a4b7-4f79-cf17-647fddf2f7f4"
      },
      "outputs": [
        {
          "output_type": "stream",
          "name": "stdout",
          "text": [
            "\u001b[1m685/685\u001b[0m \u001b[32m━━━━━━━━━━━━━━━━━━━━\u001b[0m\u001b[37m\u001b[0m \u001b[1m3s\u001b[0m 4ms/step - accuracy: 0.9837 - loss: 1.1096\n",
            "Test Accuracy: 82.76%\n",
            "\u001b[1m685/685\u001b[0m \u001b[32m━━━━━━━━━━━━━━━━━━━━\u001b[0m\u001b[37m\u001b[0m \u001b[1m2s\u001b[0m 2ms/step\n",
            "[[18118     0     0     0     0]\n",
            " [  556     0     0     0     0]\n",
            " [ 1448     0     0     0     0]\n",
            " [  162     0     0     0     0]\n",
            " [ 1608     0     0     0     0]]\n",
            "              precision    recall  f1-score   support\n",
            "\n",
            "           0       0.83      1.00      0.91     18118\n",
            "           1       0.00      0.00      0.00       556\n",
            "           2       0.00      0.00      0.00      1448\n",
            "           3       0.00      0.00      0.00       162\n",
            "           4       0.00      0.00      0.00      1608\n",
            "\n",
            "    accuracy                           0.83     21892\n",
            "   macro avg       0.17      0.20      0.18     21892\n",
            "weighted avg       0.68      0.83      0.75     21892\n",
            "\n"
          ]
        },
        {
          "output_type": "stream",
          "name": "stderr",
          "text": [
            "/usr/local/lib/python3.10/dist-packages/sklearn/metrics/_classification.py:1471: UndefinedMetricWarning: Precision and F-score are ill-defined and being set to 0.0 in labels with no predicted samples. Use `zero_division` parameter to control this behavior.\n",
            "  _warn_prf(average, modifier, msg_start, len(result))\n",
            "/usr/local/lib/python3.10/dist-packages/sklearn/metrics/_classification.py:1471: UndefinedMetricWarning: Precision and F-score are ill-defined and being set to 0.0 in labels with no predicted samples. Use `zero_division` parameter to control this behavior.\n",
            "  _warn_prf(average, modifier, msg_start, len(result))\n",
            "/usr/local/lib/python3.10/dist-packages/sklearn/metrics/_classification.py:1471: UndefinedMetricWarning: Precision and F-score are ill-defined and being set to 0.0 in labels with no predicted samples. Use `zero_division` parameter to control this behavior.\n",
            "  _warn_prf(average, modifier, msg_start, len(result))\n"
          ]
        }
      ],
      "source": [
        "loss, accuracy = model_2d.evaluate(X_test_2d, y_test_2d)\n",
        "print(f'Test Accuracy: {accuracy*100:.2f}%')\n",
        "\n",
        "y_pred_2d = model_2d.predict(X_test_2d)\n",
        "y_pred_classes_2d = np.argmax(y_pred_2d, axis=1)\n",
        "y_true_2d = np.argmax(y_test_2d, axis=1)\n",
        "\n",
        "print(confusion_matrix(y_true_2d, y_pred_classes_2d))\n",
        "print(classification_report(y_true_2d, y_pred_classes_2d))\n"
      ]
    },
    {
      "cell_type": "code",
      "execution_count": null,
      "metadata": {
        "id": "2dtITdE_lI-b"
      },
      "outputs": [],
      "source": []
    },
    {
      "cell_type": "code",
      "execution_count": null,
      "metadata": {
        "id": "ApbNPJTZk9p2"
      },
      "outputs": [],
      "source": []
    },
    {
      "cell_type": "code",
      "execution_count": null,
      "metadata": {
        "id": "IgpzG0RYk9uP"
      },
      "outputs": [],
      "source": []
    },
    {
      "cell_type": "code",
      "execution_count": null,
      "metadata": {
        "id": "fU8bug_0k9vT"
      },
      "outputs": [],
      "source": []
    },
    {
      "cell_type": "code",
      "execution_count": null,
      "metadata": {
        "id": "uH4G2FW8k9zG"
      },
      "outputs": [],
      "source": []
    },
    {
      "cell_type": "code",
      "execution_count": null,
      "metadata": {
        "id": "qQVY_isZk90A"
      },
      "outputs": [],
      "source": []
    }
  ],
  "metadata": {
    "accelerator": "GPU",
    "colab": {
      "gpuType": "T4",
      "provenance": []
    },
    "kernelspec": {
      "display_name": "Python 3",
      "name": "python3"
    },
    "language_info": {
      "name": "python"
    }
  },
  "nbformat": 4,
  "nbformat_minor": 0
}